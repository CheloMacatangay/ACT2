{
 "cells": [
  {
   "cell_type": "markdown",
   "id": "609a0de3-d922-4ada-9256-edfafbe7f18b",
   "metadata": {},
   "source": [
    "<h1>ACTIVITY 2</h1>\n",
    "<h2>Car Accident Data Analytics</h2>"
   ]
  },
  {
   "cell_type": "code",
   "execution_count": 1,
   "id": "5c399d10-7749-4c2c-adb3-d452f14acc1c",
   "metadata": {},
   "outputs": [],
   "source": [
    "import numpy as np\n",
    "import pandas as pd\n",
    "import warnings\n",
    "warnings.filterwarnings(\"ignore\")\n",
    "\n",
    "accident = pd.read_csv(\"datasets\\\\uk_accident_data.csv\")"
   ]
  },
  {
   "cell_type": "markdown",
   "id": "5c4571ab-ce86-4a20-b4bf-6db0821a2343",
   "metadata": {},
   "source": [
    "accident"
   ]
  },
  {
   "cell_type": "code",
   "execution_count": 32,
   "id": "d9c4d23b-124c-47aa-b23d-7a0802dac513",
   "metadata": {},
   "outputs": [
    {
     "data": {
      "text/plain": [
       "Index          Accident_Severity  Accident Date  Latitude   Light_Conditions        District Area      Longitude  Number_of_Casualties  Number_of_Vehicles  Road_Surface_Conditions  Road_Type           Urban_or_Rural_Area  Weather_Conditions     Vehicle_Type           Year  Month  Day  DayOfWeek  Hour\n",
       "2.01E+12       Slight             2020-04-05     55.988302  Daylight                East Lothian       -2.527800  1                     1                   Snow                     Dual carriageway    Rural                Other                  Car                    2020  4      5    6          0       2\n",
       "                                  2019-06-27     52.647531  Daylight                Great Yarmouth      1.727655  1                     2                   Dry                      Roundabout          Urban                Fine no high winds     Car                    2019  6      27   3          0       2\n",
       "                                  2020-11-22     52.624184  Darkness - no lighting  Broadland           1.372570  1                     2                   Snow                     Dual carriageway    Rural                Snowing no high winds  Car                    2020  11     22   6          0       2\n",
       "                                  2020-12-07     50.870870  Darkness - no lighting  Brighton and Hove  -0.125952  1                     1                   Frost or ice             Dual carriageway    Rural                Fine no high winds     Car                    2020  12     7    0          0       2\n",
       "                                  2020-05-03     51.015531  Daylight                Winchester         -1.341631  1                     3                   Dry                      Dual carriageway    Rural                Fine no high winds     Car                    2020  5      3    6          0       2\n",
       "                                                                                                                                                                                                                                                                                                                ..\n",
       "201091NL05068  Slight             2022-09-09     60.157212  Darkness - lights lit   Shetland Islands   -1.155823  1                     1                   Wet or damp              Single carriageway  Rural                Raining + high winds   Taxi/Private hire car  2022  9      9    4          0       1\n",
       "201091NL05148  Slight             2022-09-13     60.344563  Darkness - no lighting  Shetland Islands   -1.252809  3                     1                   Wet or damp              Single carriageway  Rural                Raining + high winds   Car                    2022  9      13   1          0       1\n",
       "201091NL05795  Slight             2022-10-15     60.254095  Daylight                Shetland Islands   -1.293355  1                     2                   Wet or damp              Single carriageway  Rural                Raining no high winds  Car                    2022  10     15   5          0       1\n",
       "201091NL05842  Serious            2022-10-18     60.162660  Daylight                Shetland Islands   -1.165232  1                     1                   Dry                      Single carriageway  Rural                Fine + high winds      Car                    2022  10     18   1          0       1\n",
       "2.01E+102      Serious            2019-02-13     51.899266  Daylight                Stevenage          -0.198869  1                     2                   Dry                      Single carriageway  Urban                Fine no high winds     Agricultural vehicle   2019  2      13   2          0       1\n",
       "Name: count, Length: 660660, dtype: int64"
      ]
     },
     "execution_count": 32,
     "metadata": {},
     "output_type": "execute_result"
    }
   ],
   "source": [
    "accident.value_counts()"
   ]
  },
  {
   "cell_type": "code",
   "execution_count": 4,
   "id": "985170cb-78b3-4823-a32f-c7563ffe766c",
   "metadata": {},
   "outputs": [
    {
     "name": "stdout",
     "output_type": "stream",
     "text": [
      "<class 'pandas.core.frame.DataFrame'>\n",
      "RangeIndex: 660679 entries, 0 to 660678\n",
      "Data columns (total 14 columns):\n",
      " #   Column                   Non-Null Count   Dtype  \n",
      "---  ------                   --------------   -----  \n",
      " 0   Index                    660679 non-null  object \n",
      " 1   Accident_Severity        660679 non-null  object \n",
      " 2   Accident Date            660679 non-null  object \n",
      " 3   Latitude                 660654 non-null  float64\n",
      " 4   Light_Conditions         660679 non-null  object \n",
      " 5   District Area            660679 non-null  object \n",
      " 6   Longitude                660653 non-null  float64\n",
      " 7   Number_of_Casualties     660679 non-null  int64  \n",
      " 8   Number_of_Vehicles       660679 non-null  int64  \n",
      " 9   Road_Surface_Conditions  659953 non-null  object \n",
      " 10  Road_Type                656159 non-null  object \n",
      " 11  Urban_or_Rural_Area      660664 non-null  object \n",
      " 12  Weather_Conditions       646551 non-null  object \n",
      " 13  Vehicle_Type             660679 non-null  object \n",
      "dtypes: float64(2), int64(2), object(10)\n",
      "memory usage: 70.6+ MB\n"
     ]
    }
   ],
   "source": [
    "accident.info()"
   ]
  },
  {
   "cell_type": "code",
   "execution_count": 5,
   "id": "17049371-4b07-42cf-bc46-5cfe38894b0a",
   "metadata": {},
   "outputs": [],
   "source": [
    "accident['Accident Date'] = accident['Accident Date'].str.strip()\n",
    "accident['Accident Date'] = accident['Accident Date'].astype('str')\n",
    "accident['Accident Date'] = accident['Accident Date'].str.replace('/', '-')"
   ]
  },
  {
   "cell_type": "code",
   "execution_count": 6,
   "id": "84c5ab6e-b194-4239-be98-08472ce0c835",
   "metadata": {},
   "outputs": [],
   "source": [
    "accident['Accident Date'] = pd.to_datetime(accident['Accident Date'], dayfirst = True, errors = 'coerce')"
   ]
  },
  {
   "cell_type": "code",
   "execution_count": 7,
   "id": "3079a061-d81b-4253-9b9a-a1c749604416",
   "metadata": {},
   "outputs": [
    {
     "data": {
      "text/plain": [
       "Index                              object\n",
       "Accident_Severity                  object\n",
       "Accident Date              datetime64[ns]\n",
       "Latitude                          float64\n",
       "Light_Conditions                   object\n",
       "District Area                      object\n",
       "Longitude                         float64\n",
       "Number_of_Casualties                int64\n",
       "Number_of_Vehicles                  int64\n",
       "Road_Surface_Conditions            object\n",
       "Road_Type                          object\n",
       "Urban_or_Rural_Area                object\n",
       "Weather_Conditions                 object\n",
       "Vehicle_Type                       object\n",
       "dtype: object"
      ]
     },
     "execution_count": 7,
     "metadata": {},
     "output_type": "execute_result"
    }
   ],
   "source": [
    "accident.dtypes"
   ]
  },
  {
   "cell_type": "code",
   "execution_count": 8,
   "id": "52cc2a4c-aa65-4e35-bf7d-bff8388ceb06",
   "metadata": {},
   "outputs": [],
   "source": [
    "accident['Year'] = accident['Accident Date'].dt.year\n",
    "accident['Month'] = accident['Accident Date'].dt.month\n",
    "accident['Day'] = accident['Accident Date'].dt.day\n",
    "accident['DayOfWeek'] = accident['Accident Date'].dt.dayofweek"
   ]
  },
  {
   "cell_type": "code",
   "execution_count": 9,
   "id": "96b6bb53-50ed-42e8-bee0-a756651411a9",
   "metadata": {},
   "outputs": [
    {
     "data": {
      "text/plain": [
       "Index                          0\n",
       "Accident_Severity              0\n",
       "Accident Date                  0\n",
       "Latitude                      25\n",
       "Light_Conditions               0\n",
       "District Area                  0\n",
       "Longitude                     26\n",
       "Number_of_Casualties           0\n",
       "Number_of_Vehicles             0\n",
       "Road_Surface_Conditions      726\n",
       "Road_Type                   4520\n",
       "Urban_or_Rural_Area           15\n",
       "Weather_Conditions         14128\n",
       "Vehicle_Type                   0\n",
       "Year                           0\n",
       "Month                          0\n",
       "Day                            0\n",
       "DayOfWeek                      0\n",
       "dtype: int64"
      ]
     },
     "execution_count": 9,
     "metadata": {},
     "output_type": "execute_result"
    }
   ],
   "source": [
    "accident.isnull().sum()"
   ]
  },
  {
   "cell_type": "code",
   "execution_count": 10,
   "id": "9d5c3204-8959-4420-9c74-383560125bae",
   "metadata": {},
   "outputs": [],
   "source": [
    "accident['Latitude'] = accident['Latitude'].fillna(accident['Latitude'].mean())\n",
    "accident['Longitude'] = accident['Longitude'].fillna(accident['Longitude'].mean())\n",
    "accident['Road_Surface_Conditions'] = accident['Road_Surface_Conditions'].fillna(accident['Road_Surface_Conditions'].mode()[0])\n",
    "accident['Road_Type'] = accident['Road_Type'].fillna(accident['Road_Type'].mode()[0])\n",
    "accident['Urban_or_Rural_Area'] = accident['Urban_or_Rural_Area'].fillna(accident['Urban_or_Rural_Area'].mode()[0])\n",
    "accident['Weather_Conditions'] = accident['Weather_Conditions'].fillna(accident['Weather_Conditions'].mode()[0])"
   ]
  },
  {
   "cell_type": "code",
   "execution_count": 11,
   "id": "a140f404-4ae1-4f1a-82ec-6d72a2527744",
   "metadata": {},
   "outputs": [
    {
     "data": {
      "text/plain": [
       "Index                      0\n",
       "Accident_Severity          0\n",
       "Accident Date              0\n",
       "Latitude                   0\n",
       "Light_Conditions           0\n",
       "District Area              0\n",
       "Longitude                  0\n",
       "Number_of_Casualties       0\n",
       "Number_of_Vehicles         0\n",
       "Road_Surface_Conditions    0\n",
       "Road_Type                  0\n",
       "Urban_or_Rural_Area        0\n",
       "Weather_Conditions         0\n",
       "Vehicle_Type               0\n",
       "Year                       0\n",
       "Month                      0\n",
       "Day                        0\n",
       "DayOfWeek                  0\n",
       "dtype: int64"
      ]
     },
     "execution_count": 11,
     "metadata": {},
     "output_type": "execute_result"
    }
   ],
   "source": [
    "accident.isnull().sum()"
   ]
  },
  {
   "cell_type": "markdown",
   "id": "9718fbc0-f214-4564-935a-65455d783c6f",
   "metadata": {},
   "source": [
    "<h2>Univariate Analysis on accident that happened in 2019</h2>"
   ]
  },
  {
   "cell_type": "code",
   "execution_count": 12,
   "id": "ea251ddd-219f-4075-89d5-d8adff075547",
   "metadata": {},
   "outputs": [],
   "source": [
    "df_2019 = accident[accident['Year'] == 2019]"
   ]
  },
  {
   "cell_type": "code",
   "execution_count": 13,
   "id": "cdfadaa4-fc15-4e2d-b166-da67554e9823",
   "metadata": {},
   "outputs": [
    {
     "name": "stdout",
     "output_type": "stream",
     "text": [
      "total number of accident in 2019 is 182115\n"
     ]
    },
    {
     "data": {
      "text/plain": [
       "Light_Conditions\n",
       "Daylight                       133042\n",
       "Darkness - lights lit           35769\n",
       "Darkness - no lighting          10842\n",
       "Darkness - lighting unknown      1768\n",
       "Darkness - lights unlit           694\n",
       "Name: count, dtype: int64"
      ]
     },
     "execution_count": 13,
     "metadata": {},
     "output_type": "execute_result"
    }
   ],
   "source": [
    "print(f\"total number of accident in 2019 is {df_2019['Light_Conditions'].value_counts().sum()}\")\n",
    "df_2019['Light_Conditions'].value_counts()"
   ]
  },
  {
   "cell_type": "markdown",
   "id": "b4efa7ed-e769-484d-8ef1-b25a87271422",
   "metadata": {},
   "source": [
    "<h2>ACTIVITY 2</h2>"
   ]
  },
  {
   "cell_type": "markdown",
   "id": "5bef35f3-ec45-4987-afce-291b6bfc9152",
   "metadata": {},
   "source": [
    "<H3>Q1. Which Accident Severity occurs most frequently?</H3>"
   ]
  },
  {
   "cell_type": "code",
   "execution_count": 14,
   "id": "6bf0573b-ee72-42cb-b593-bc5bbab77550",
   "metadata": {},
   "outputs": [
    {
     "data": {
      "text/plain": [
       "Accident_Severity\n",
       "Slight     563801\n",
       "Serious     88217\n",
       "Fatal        8661\n",
       "Name: count, dtype: int64"
      ]
     },
     "execution_count": 14,
     "metadata": {},
     "output_type": "execute_result"
    }
   ],
   "source": [
    "accident['Accident_Severity'].value_counts()"
   ]
  },
  {
   "cell_type": "code",
   "execution_count": null,
   "id": "3bbfdbda-cddb-40d8-b751-8ce30f56bd34",
   "metadata": {},
   "outputs": [],
   "source": []
  },
  {
   "cell_type": "markdown",
   "id": "2451f539-5f60-44fe-acf4-b2eb41bcccce",
   "metadata": {},
   "source": [
    "<h3>Q2. What is the most common Weather Condition during accidents?</h3>"
   ]
  },
  {
   "cell_type": "code",
   "execution_count": 15,
   "id": "11c10357-1498-43bc-ab2d-ed5d1e7b605f",
   "metadata": {},
   "outputs": [
    {
     "data": {
      "text/plain": [
       "'Fine no high winds'"
      ]
     },
     "execution_count": 15,
     "metadata": {},
     "output_type": "execute_result"
    }
   ],
   "source": [
    "accident['Weather_Conditions'].mode()[0]\n"
   ]
  },
  {
   "cell_type": "markdown",
   "id": "7013026f-444a-40a1-b434-eb7b1d6a46ab",
   "metadata": {},
   "source": [
    "<h3>Q3. Road Surface Condition with the highest number of accidents?</h3>"
   ]
  },
  {
   "cell_type": "code",
   "execution_count": 16,
   "id": "da253831-f933-4db5-99dc-51f9c0b86f3a",
   "metadata": {},
   "outputs": [
    {
     "data": {
      "text/plain": [
       "'Dry'"
      ]
     },
     "execution_count": 16,
     "metadata": {},
     "output_type": "execute_result"
    }
   ],
   "source": [
    "accident.groupby('Road_Surface_Conditions').size().idxmax()\n"
   ]
  },
  {
   "cell_type": "markdown",
   "id": "b0fac1b5-8efc-418d-81b1-207b0ed9d5f0",
   "metadata": {},
   "source": [
    "<h3>Q4. Average number of casualties per accident by severity?</h3>"
   ]
  },
  {
   "cell_type": "code",
   "execution_count": 17,
   "id": "05f817e9-9bbd-48af-ae2f-e830961dbaa8",
   "metadata": {},
   "outputs": [
    {
     "data": {
      "text/plain": [
       "Accident_Severity\n",
       "Fatal      1.903129\n",
       "Serious    1.467280\n",
       "Slight     1.331402\n",
       "Name: Number_of_Casualties, dtype: float64"
      ]
     },
     "execution_count": 17,
     "metadata": {},
     "output_type": "execute_result"
    }
   ],
   "source": [
    "accident.groupby('Accident_Severity')['Number_of_Casualties'].mean()"
   ]
  },
  {
   "cell_type": "markdown",
   "id": "9d6792a7-c252-4a46-aa94-46a5e9064313",
   "metadata": {},
   "source": [
    "<h3>Q5.Hour of the day with max accidents?</h3>"
   ]
  },
  {
   "cell_type": "code",
   "execution_count": 18,
   "id": "9bca14ea-9ef6-440e-b039-1400b2f17ad8",
   "metadata": {},
   "outputs": [
    {
     "data": {
      "text/plain": [
       "np.int32(0)"
      ]
     },
     "execution_count": 18,
     "metadata": {},
     "output_type": "execute_result"
    }
   ],
   "source": [
    "accident['Hour'] = accident['Accident Date'].dt.hour\n",
    "accident['Hour'].mode()[0]\n"
   ]
  },
  {
   "cell_type": "markdown",
   "id": "7d8bffbe-221c-4716-b081-219bec1fd7cb",
   "metadata": {},
   "source": [
    "<h3>Q6.In 2022, how many accidents happened, and what were the counts by Road Type?</h3>"
   ]
  },
  {
   "cell_type": "code",
   "execution_count": 35,
   "id": "990c4ec7-c4c7-4eeb-aa92-5d3dd4a8c244",
   "metadata": {},
   "outputs": [
    {
     "name": "stdout",
     "output_type": "stream",
     "text": [
      "Total number of accidents in 2022: 144419\n"
     ]
    },
    {
     "data": {
      "text/plain": [
       "Road_Type\n",
       "Single carriageway    108654\n",
       "Dual carriageway       21415\n",
       "Roundabout              9888\n",
       "One way street          2926\n",
       "Slip road               1536\n",
       "Name: count, dtype: int64"
      ]
     },
     "execution_count": 35,
     "metadata": {},
     "output_type": "execute_result"
    }
   ],
   "source": [
    "df_2022 = accident[accident['Year'] == 2022]\n",
    "print(f\"Total number of accidents in 2022: {df_2022['Road_Type'].value_counts().sum()}\")\n",
    "df_2022['Road_Type'].value_counts()\n",
    "\n"
   ]
  },
  {
   "cell_type": "markdown",
   "id": "adca57f8-3ba8-47d6-ad3f-00cf541fdaa0",
   "metadata": {},
   "source": [
    "<h3>Q7. Which month had the highest average casualties?</h3>"
   ]
  },
  {
   "cell_type": "code",
   "execution_count": 20,
   "id": "ff003628-1e8d-4577-a3fb-38b53fb49439",
   "metadata": {},
   "outputs": [
    {
     "data": {
      "text/plain": [
       "Month\n",
       "1     1.343585\n",
       "2     1.343941\n",
       "3     1.351107\n",
       "4     1.364796\n",
       "5     1.362791\n",
       "6     1.350826\n",
       "7     1.366350\n",
       "8     1.396324\n",
       "9     1.347144\n",
       "10    1.347801\n",
       "11    1.348024\n",
       "12    1.362972\n",
       "Name: Number_of_Casualties, dtype: float64"
      ]
     },
     "execution_count": 20,
     "metadata": {},
     "output_type": "execute_result"
    }
   ],
   "source": [
    "accident.groupby('Month')['Number_of_Casualties'].mean()\n"
   ]
  },
  {
   "cell_type": "markdown",
   "id": "9cb3c516-c6a8-4d2f-9810-f1524bfedee0",
   "metadata": {},
   "source": [
    "<h3>Q8.What Vehicle Type is most common in fatal accidents?</h3>"
   ]
  },
  {
   "cell_type": "code",
   "execution_count": 22,
   "id": "961543a1-131a-4c33-a447-d77974c8ea58",
   "metadata": {},
   "outputs": [
    {
     "data": {
      "text/plain": [
       "'Car'"
      ]
     },
     "execution_count": 22,
     "metadata": {},
     "output_type": "execute_result"
    }
   ],
   "source": [
    "fatal_accidents = accident[accident['Accident_Severity'] == 'Fatal']\n",
    "fatal_accidents['Vehicle_Type'].mode()[0]\n"
   ]
  },
  {
   "cell_type": "markdown",
   "id": "0c5cd268-bd97-4373-8bbf-dc62428db54d",
   "metadata": {},
   "source": [
    "<h3>Q9. Average number of vehicles involved per Vehicle Type.</h3>"
   ]
  },
  {
   "cell_type": "code",
   "execution_count": 23,
   "id": "bf91d73b-a0ee-40ca-878c-58ffc4a21866",
   "metadata": {},
   "outputs": [
    {
     "data": {
      "text/plain": [
       "Vehicle_Type\n",
       "Agricultural vehicle                     1.805855\n",
       "Bus or coach (17 or more pass seats)     1.831015\n",
       "Car                                      1.832134\n",
       "Data missing or out of range             1.666667\n",
       "Goods 7.5 tonnes mgw and over            1.830935\n",
       "Goods over 3.5t. and under 7.5t          1.833497\n",
       "Minibus (8 - 16 passenger seats)         1.804150\n",
       "Motorcycle 125cc and under               1.815247\n",
       "Motorcycle 50cc and under                1.839537\n",
       "Motorcycle over 125cc and up to 500cc    1.825888\n",
       "Motorcycle over 500cc                    1.834743\n",
       "Other vehicle                            1.825971\n",
       "Pedal cycle                              1.837563\n",
       "Ridden horse                             1.500000\n",
       "Taxi/Private hire car                    1.836468\n",
       "Van / Goods 3.5 tonnes mgw or under      1.824180\n",
       "Name: Number_of_Vehicles, dtype: float64"
      ]
     },
     "execution_count": 23,
     "metadata": {},
     "output_type": "execute_result"
    }
   ],
   "source": [
    "accident.groupby('Vehicle_Type')['Number_of_Vehicles'].mean()\n"
   ]
  },
  {
   "cell_type": "markdown",
   "id": "82310337-595d-4ea1-aeb8-a6c70a4b7e71",
   "metadata": {},
   "source": [
    "<h3>Q10. Compare the average number of casualties in Urban vs Rural areas (per District)</h3>"
   ]
  },
  {
   "cell_type": "code",
   "execution_count": 24,
   "id": "5771ff6c-0d67-4165-82b5-0ba5d5b42e01",
   "metadata": {},
   "outputs": [
    {
     "data": {
      "text/plain": [
       "District Area  Urban_or_Rural_Area\n",
       "Aberdeen City  Rural                  1.193237\n",
       "               Urban                  1.129928\n",
       "Aberdeenshire  Rural                  1.327344\n",
       "               Urban                  1.107383\n",
       "Adur           Rural                  1.461929\n",
       "                                        ...   \n",
       "Wyre           Urban                  1.298153\n",
       "Wyre Forest    Rural                  1.505967\n",
       "               Urban                  1.289091\n",
       "York           Rural                  1.508499\n",
       "               Urban                  1.165407\n",
       "Name: Number_of_Casualties, Length: 824, dtype: float64"
      ]
     },
     "execution_count": 24,
     "metadata": {},
     "output_type": "execute_result"
    }
   ],
   "source": [
    "accident.groupby(['District Area','Urban_or_Rural_Area'])['Number_of_Casualties'].mean()\n"
   ]
  },
  {
   "cell_type": "markdown",
   "id": "0a98d0e8-30de-47bd-bff6-f6845b950448",
   "metadata": {},
   "source": [
    "<h3>Q11.District Area with the highest single accident casualties?</h3>"
   ]
  },
  {
   "cell_type": "code",
   "execution_count": 25,
   "id": "80200953-e8e8-4e1f-aa96-f06de53117d8",
   "metadata": {},
   "outputs": [
    {
     "data": {
      "text/plain": [
       "District Area\n",
       "South Bucks    68\n",
       "Name: Number_of_Casualties, dtype: int64"
      ]
     },
     "execution_count": 25,
     "metadata": {},
     "output_type": "execute_result"
    }
   ],
   "source": [
    "max_cas = accident.groupby('District Area')['Number_of_Casualties'].max()\n",
    "max_cas[max_cas == max_cas.max()]\n"
   ]
  },
  {
   "cell_type": "markdown",
   "id": "e13ed67b-2237-456c-9653-6ce926c0aeac",
   "metadata": {},
   "source": [
    "<H3>Q12.Total casualties per District Area</H3>"
   ]
  },
  {
   "cell_type": "code",
   "execution_count": 26,
   "id": "7e31cfdb-2aad-4eb4-b71f-27c57b9614a3",
   "metadata": {},
   "outputs": [
    {
     "data": {
      "text/plain": [
       "District Area\n",
       "Aberdeen City    1508\n",
       "Aberdeenshire    2529\n",
       "Adur              817\n",
       "Allerdale        1663\n",
       "Alnwick           351\n",
       "                 ... \n",
       "Wychavon         1943\n",
       "Wycombe          2442\n",
       "Wyre             1706\n",
       "Wyre Forest      1340\n",
       "York             2453\n",
       "Name: Number_of_Casualties, Length: 422, dtype: int64"
      ]
     },
     "execution_count": 26,
     "metadata": {},
     "output_type": "execute_result"
    }
   ],
   "source": [
    "accident.groupby('District Area')['Number_of_Casualties'].sum()\n"
   ]
  },
  {
   "cell_type": "markdown",
   "id": "d63ea453-a18a-47aa-898c-cff72bb46c6f",
   "metadata": {},
   "source": [
    "<h3>Q13.What is the average number of vehicles involved in accidents on wet roads compared to dry roads?</h3>"
   ]
  },
  {
   "cell_type": "code",
   "execution_count": 29,
   "id": "67662ca1-2a13-42ad-8d23-948e0df4ab33",
   "metadata": {},
   "outputs": [
    {
     "name": "stdout",
     "output_type": "stream",
     "text": [
      "Wet roads average vehicles: nan\n",
      "Dry roads average vehicles: 1.8416308658847345\n"
     ]
    }
   ],
   "source": [
    "wet_avg = accident[accident['Road_Surface_Conditions'] == 'Wet']['Number_of_Vehicles'].mean()\n",
    "dry_avg = accident[accident['Road_Surface_Conditions'] == 'Dry']['Number_of_Vehicles'].mean()\n",
    "\n",
    "print(\"Wet roads average vehicles:\", wet_avg)\n",
    "print(\"Dry roads average vehicles:\", dry_avg)\n"
   ]
  },
  {
   "cell_type": "markdown",
   "id": "0629334d-17f4-40b1-8ce1-9ba3f9a59ff0",
   "metadata": {},
   "source": [
    "<h3>Q14.In which month did the most accidents occur?</h3>"
   ]
  },
  {
   "cell_type": "code",
   "execution_count": 30,
   "id": "6e784ef9-d063-43c7-afaa-02d1d893e740",
   "metadata": {},
   "outputs": [
    {
     "data": {
      "text/plain": [
       "Month\n",
       "11    60424\n",
       "Name: count, dtype: int64"
      ]
     },
     "execution_count": 30,
     "metadata": {},
     "output_type": "execute_result"
    }
   ],
   "source": [
    "monthly_counts = accident['Month'].value_counts()\n",
    "monthly_counts[monthly_counts == monthly_counts.max()]\n"
   ]
  },
  {
   "cell_type": "markdown",
   "id": "c6982a03-e8ea-4a8d-b66f-5c9155c006e6",
   "metadata": {},
   "source": [
    "<h3>Q15. In which month did the fewest accidents occur?</h3>"
   ]
  },
  {
   "cell_type": "code",
   "execution_count": 31,
   "id": "d3d103a2-fc46-4e1e-a394-8b22b8bf75a9",
   "metadata": {},
   "outputs": [
    {
     "data": {
      "text/plain": [
       "Month\n",
       "2    49491\n",
       "Name: count, dtype: int64"
      ]
     },
     "execution_count": 31,
     "metadata": {},
     "output_type": "execute_result"
    }
   ],
   "source": [
    "monthly_counts = accident['Month'].value_counts()\n",
    "monthly_counts[monthly_counts == monthly_counts.min()]\n"
   ]
  },
  {
   "cell_type": "code",
   "execution_count": null,
   "id": "4fc23f92-a09f-46ac-a247-d0ad6a73ad3b",
   "metadata": {},
   "outputs": [],
   "source": []
  }
 ],
 "metadata": {
  "kernelspec": {
   "display_name": "Python 3 (ipykernel)",
   "language": "python",
   "name": "python3"
  },
  "language_info": {
   "codemirror_mode": {
    "name": "ipython",
    "version": 3
   },
   "file_extension": ".py",
   "mimetype": "text/x-python",
   "name": "python",
   "nbconvert_exporter": "python",
   "pygments_lexer": "ipython3",
   "version": "3.13.1"
  }
 },
 "nbformat": 4,
 "nbformat_minor": 5
}
